{
 "cells": [
  {
   "cell_type": "markdown",
   "metadata": {
    "application/vnd.databricks.v1+cell": {
     "cellMetadata": {},
     "inputWidgets": {},
     "nuid": "ee8dcc94-99d5-4b62-8a76-63d21a664cca",
     "showTitle": false,
     "tableResultSettingsMap": {},
     "title": ""
    }
   },
   "source": [
    "\n",
    "# \uD83D\uDCCA Sales Funnel Metrics for GTM & Pricing Analytics\n",
    "\n",
    "This section demonstrates my ability to calculate key sales funnel and go-to-market (GTM) efficiency metrics using SQL. These metrics are fundamental for forecasting, evaluating sales performance, and informing pricing strategy.\n",
    "\n",
    "The calculation for these metrics typically involves the concept of **conversion rate**, which is generally:\n",
    "$$\\text{Conversion Rate} = \\frac{\\text{Number of entities moving to the next stage}}{\\text{Number of entities in the current stage}}$$\n",
    "\n",
    "### Table of Contents:\n",
    "1. Lead-to-Opportunity Conversion Rate (L2O) \n",
    "2. Opportunity-to-Win Conversion Rate (O2W) / Win Rate \n",
    "3. Sales Cycle Length (Time to Close) \n",
    "4. Average Deal Size (or Average Annual Contract Value - ACV) \n",
    "5. Pipeline Coverage Ratio\n"
   ]
  },
  {
   "cell_type": "markdown",
   "metadata": {
    "application/vnd.databricks.v1+cell": {
     "cellMetadata": {},
     "inputWidgets": {},
     "nuid": "07c71192-d96e-41a7-98fa-72371355c85b",
     "showTitle": false,
     "tableResultSettingsMap": {},
     "title": ""
    }
   },
   "source": [
    "***\n",
    "\n",
    "## 1. Lead-to-Opportunity Conversion Rate (L2O)\n",
    "\n",
    "Measures the efficiency of converting raw leads into qualified opportunities.\n",
    "\n",
    "| Detail | Description |\n",
    "| :--- | :--- |\n",
    "| **Why it Matters** | Gauges the effectiveness of **marketing efforts** and initial lead qualification (SDR/BDR teams). |\n",
    "| **Formula** | $$\\frac{\\text{COUNT(Opportunities Created)}}{\\text{COUNT(Total Leads Created)}}$$ |\n",
    "| **Required Data Fields** | `lead_id`, `is_opportunity_created` (Boolean/Flag), `lead_creation_date` |\n"
   ]
  },
  {
   "cell_type": "code",
   "execution_count": 0,
   "metadata": {
    "application/vnd.databricks.v1+cell": {
     "cellMetadata": {
      "byteLimit": 2048000,
      "implicitDf": true,
      "rowLimit": 10000
     },
     "inputWidgets": {},
     "nuid": "0deb9f08-94ab-4e76-8f62-b4221f6e156e",
     "showTitle": false,
     "tableResultSettingsMap": {},
     "title": ""
    }
   },
   "outputs": [
    {
     "output_type": "display_data",
     "data": {
      "text/html": [
       "<style scoped>\n",
       "  .table-result-container {\n",
       "    max-height: 300px;\n",
       "    overflow: auto;\n",
       "  }\n",
       "  table, th, td {\n",
       "    border: 1px solid black;\n",
       "    border-collapse: collapse;\n",
       "  }\n",
       "  th, td {\n",
       "    padding: 5px;\n",
       "  }\n",
       "  th {\n",
       "    text-align: left;\n",
       "  }\n",
       "</style><div class='table-result-container'><table class='table-result'><thead style='background-color: white'><tr></tr></thead><tbody></tbody></table></div>"
      ]
     },
     "metadata": {
      "application/vnd.databricks.v1+output": {
       "addedWidgets": {},
       "aggData": [],
       "aggError": "",
       "aggOverflow": false,
       "aggSchema": [],
       "aggSeriesLimitReached": false,
       "aggType": "",
       "arguments": {},
       "columnCustomDisplayInfos": {},
       "data": [],
       "datasetInfos": [],
       "dbfsResultPath": null,
       "isJsonSchema": true,
       "metadata": {
        "dataframeName": null
       },
       "overflow": false,
       "plotOptions": {
        "customPlotOptions": {},
        "displayType": "table",
        "pivotAggregation": null,
        "pivotColumns": null,
        "xColumns": null,
        "yColumns": null
       },
       "removedWidgets": [],
       "schema": [],
       "type": "table"
      }
     },
     "output_type": "display_data"
    }
   ],
   "source": [
    "%sql\n",
    "CREATE OR REPLACE TEMPORARY VIEW leads \n",
    "USING CSV\n",
    "OPTIONS (\n",
    "  path \"file:/Workspace/Users/olesia.tankersley@thermofisher.com/Go-To-Market-Analytics/lead_funnel_data.csv\",\n",
    "  header \"true\",\n",
    "  inferSchema \"true\" );"
   ]
  },
  {
   "cell_type": "code",
   "execution_count": 0,
   "metadata": {
    "application/vnd.databricks.v1+cell": {
     "cellMetadata": {
      "byteLimit": 2048000,
      "implicitDf": true,
      "rowLimit": 10000
     },
     "inputWidgets": {},
     "nuid": "1063f307-b97e-43d0-9c6b-c528223366f2",
     "showTitle": false,
     "tableResultSettingsMap": {
      "0": {
       "dataGridStateBlob": "{\"version\":1,\"tableState\":{\"columnPinning\":{\"left\":[\"#row_number#\"],\"right\":[]},\"columnSizing\":{},\"columnVisibility\":{}},\"settings\":{\"columns\":{}},\"syncTimestamp\":1760285750274}",
       "filterBlob": null,
       "queryPlanFiltersBlob": null,
       "tableResultIndex": 0
      }
     },
     "title": ""
    }
   },
   "outputs": [
    {
     "output_type": "display_data",
     "data": {
      "text/html": [
       "<style scoped>\n",
       "  .table-result-container {\n",
       "    max-height: 300px;\n",
       "    overflow: auto;\n",
       "  }\n",
       "  table, th, td {\n",
       "    border: 1px solid black;\n",
       "    border-collapse: collapse;\n",
       "  }\n",
       "  th, td {\n",
       "    padding: 5px;\n",
       "  }\n",
       "  th {\n",
       "    text-align: left;\n",
       "  }\n",
       "</style><div class='table-result-container'><table class='table-result'><thead style='background-color: white'><tr><th>lead_id</th><th>lead_creation_date</th><th>is_opportunity_created</th><th>opportunity_creation_date</th></tr></thead><tbody><tr><td>L-1</td><td>2025-01-01</td><td>1</td><td>2025-01-02</td></tr><tr><td>L-10</td><td>2025-01-19</td><td>1</td><td>2025-01-24</td></tr><tr><td>L-100</td><td>2025-06-18</td><td>0</td><td>null</td></tr><tr><td>L-101</td><td>2025-06-19</td><td>0</td><td>null</td></tr><tr><td>L-102</td><td>2025-06-20</td><td>1</td><td>2025-06-25</td></tr></tbody></table></div>"
      ]
     },
     "metadata": {
      "application/vnd.databricks.v1+output": {
       "addedWidgets": {},
       "aggData": [],
       "aggError": "",
       "aggOverflow": false,
       "aggSchema": [],
       "aggSeriesLimitReached": false,
       "aggType": "",
       "arguments": {},
       "columnCustomDisplayInfos": {},
       "data": [
        [
         "L-1",
         "2025-01-01",
         1,
         "2025-01-02"
        ],
        [
         "L-10",
         "2025-01-19",
         1,
         "2025-01-24"
        ],
        [
         "L-100",
         "2025-06-18",
         0,
         null
        ],
        [
         "L-101",
         "2025-06-19",
         0,
         null
        ],
        [
         "L-102",
         "2025-06-20",
         1,
         "2025-06-25"
        ]
       ],
       "datasetInfos": [],
       "dbfsResultPath": null,
       "isJsonSchema": true,
       "metadata": {
        "createTempViewForImplicitDf": true,
        "dataframeName": "_sqldf",
        "executionCount": 17
       },
       "overflow": false,
       "plotOptions": {
        "customPlotOptions": {},
        "displayType": "table",
        "pivotAggregation": null,
        "pivotColumns": null,
        "xColumns": null,
        "yColumns": null
       },
       "removedWidgets": [],
       "schema": [
        {
         "metadata": "{}",
         "name": "lead_id",
         "type": "\"string\""
        },
        {
         "metadata": "{\"__detected_date_formats\":\"M/d/yyyy\"}",
         "name": "lead_creation_date",
         "type": "\"date\""
        },
        {
         "metadata": "{}",
         "name": "is_opportunity_created",
         "type": "\"integer\""
        },
        {
         "metadata": "{\"__detected_date_formats\":\"M/d/yyyy\"}",
         "name": "opportunity_creation_date",
         "type": "\"date\""
        }
       ],
       "type": "table"
      }
     },
     "output_type": "display_data"
    }
   ],
   "source": [
    " %sql\n",
    "select * from leads limit 5"
   ]
  },
  {
   "cell_type": "code",
   "execution_count": 0,
   "metadata": {
    "application/vnd.databricks.v1+cell": {
     "cellMetadata": {
      "byteLimit": 2048000,
      "rowLimit": 10000
     },
     "inputWidgets": {},
     "nuid": "f5633eac-7ff8-4caf-8161-1bfa4072c64b",
     "showTitle": false,
     "tableResultSettingsMap": {},
     "title": ""
    }
   },
   "outputs": [
    {
     "output_type": "display_data",
     "data": {
      "text/html": [
       "<style scoped>\n",
       "  .table-result-container {\n",
       "    max-height: 300px;\n",
       "    overflow: auto;\n",
       "  }\n",
       "  table, th, td {\n",
       "    border: 1px solid black;\n",
       "    border-collapse: collapse;\n",
       "  }\n",
       "  th, td {\n",
       "    padding: 5px;\n",
       "  }\n",
       "  th {\n",
       "    text-align: left;\n",
       "  }\n",
       "</style><div class='table-result-container'><table class='table-result'><thead style='background-color: white'><tr><th>lead_id</th><th>lead_creation_date</th><th>is_opportunity_created</th><th>opportunity_creation_date</th></tr></thead><tbody><tr><td>L-1</td><td>2025-01-01</td><td>1</td><td>2025-01-02</td></tr><tr><td>L-10</td><td>2025-01-19</td><td>1</td><td>2025-01-24</td></tr><tr><td>L-100</td><td>2025-06-18</td><td>0</td><td>null</td></tr><tr><td>L-101</td><td>2025-06-19</td><td>0</td><td>null</td></tr><tr><td>L-102</td><td>2025-06-20</td><td>1</td><td>2025-06-25</td></tr></tbody></table></div>"
      ]
     },
     "metadata": {
      "application/vnd.databricks.v1+output": {
       "addedWidgets": {},
       "aggData": [],
       "aggError": "",
       "aggOverflow": false,
       "aggSchema": [],
       "aggSeriesLimitReached": false,
       "aggType": "",
       "arguments": {},
       "columnCustomDisplayInfos": {},
       "data": [
        [
         "L-1",
         "2025-01-01",
         1,
         "2025-01-02"
        ],
        [
         "L-10",
         "2025-01-19",
         1,
         "2025-01-24"
        ],
        [
         "L-100",
         "2025-06-18",
         0,
         null
        ],
        [
         "L-101",
         "2025-06-19",
         0,
         null
        ],
        [
         "L-102",
         "2025-06-20",
         1,
         "2025-06-25"
        ]
       ],
       "datasetInfos": [],
       "dbfsResultPath": null,
       "isJsonSchema": true,
       "metadata": {},
       "overflow": false,
       "plotOptions": {
        "customPlotOptions": {},
        "displayType": "table",
        "pivotAggregation": null,
        "pivotColumns": null,
        "xColumns": null,
        "yColumns": null
       },
       "removedWidgets": [],
       "schema": [
        {
         "metadata": "{}",
         "name": "lead_id",
         "type": "\"string\""
        },
        {
         "metadata": "{\"__detected_date_formats\":\"M/d/yyyy\"}",
         "name": "lead_creation_date",
         "type": "\"date\""
        },
        {
         "metadata": "{}",
         "name": "is_opportunity_created",
         "type": "\"integer\""
        },
        {
         "metadata": "{\"__detected_date_formats\":\"M/d/yyyy\"}",
         "name": "opportunity_creation_date",
         "type": "\"date\""
        }
       ],
       "type": "table"
      }
     },
     "output_type": "display_data"
    }
   ],
   "source": [
    "#alternative way to inspect data\n",
    "query = \"SELECT * FROM leads LIMIT 5\"\n",
    "df = spark.sql(query)\n",
    "display(df)"
   ]
  },
  {
   "cell_type": "code",
   "execution_count": 0,
   "metadata": {
    "application/vnd.databricks.v1+cell": {
     "cellMetadata": {
      "byteLimit": 2048000,
      "implicitDf": true,
      "rowLimit": 10000
     },
     "inputWidgets": {},
     "nuid": "d8bcd2f3-fe0b-4383-aed9-8223dd783d44",
     "showTitle": false,
     "tableResultSettingsMap": {},
     "title": ""
    }
   },
   "outputs": [
    {
     "output_type": "display_data",
     "data": {
      "text/html": [
       "<style scoped>\n",
       "  .table-result-container {\n",
       "    max-height: 300px;\n",
       "    overflow: auto;\n",
       "  }\n",
       "  table, th, td {\n",
       "    border: 1px solid black;\n",
       "    border-collapse: collapse;\n",
       "  }\n",
       "  th, td {\n",
       "    padding: 5px;\n",
       "  }\n",
       "  th {\n",
       "    text-align: left;\n",
       "  }\n",
       "</style><div class='table-result-container'><table class='table-result'><thead style='background-color: white'><tr><th>month</th><th>num_leads</th><th>num_opportunities</th></tr></thead><tbody><tr><td>1</td><td>15</td><td>6</td></tr><tr><td>2</td><td>15</td><td>7</td></tr><tr><td>3</td><td>20</td><td>8</td></tr><tr><td>4</td><td>20</td><td>6</td></tr><tr><td>5</td><td>20</td><td>10</td></tr><tr><td>6</td><td>20</td><td>9</td></tr><tr><td>7</td><td>18</td><td>8</td></tr><tr><td>8</td><td>12</td><td>3</td></tr><tr><td>9</td><td>15</td><td>6</td></tr><tr><td>10</td><td>20</td><td>8</td></tr><tr><td>11</td><td>15</td><td>5</td></tr><tr><td>12</td><td>10</td><td>4</td></tr></tbody></table></div>"
      ]
     },
     "metadata": {
      "application/vnd.databricks.v1+output": {
       "addedWidgets": {},
       "aggData": [],
       "aggError": "",
       "aggOverflow": false,
       "aggSchema": [],
       "aggSeriesLimitReached": false,
       "aggType": "",
       "arguments": {},
       "columnCustomDisplayInfos": {},
       "data": [
        [
         1,
         15,
         6
        ],
        [
         2,
         15,
         7
        ],
        [
         3,
         20,
         8
        ],
        [
         4,
         20,
         6
        ],
        [
         5,
         20,
         10
        ],
        [
         6,
         20,
         9
        ],
        [
         7,
         18,
         8
        ],
        [
         8,
         12,
         3
        ],
        [
         9,
         15,
         6
        ],
        [
         10,
         20,
         8
        ],
        [
         11,
         15,
         5
        ],
        [
         12,
         10,
         4
        ]
       ],
       "datasetInfos": [],
       "dbfsResultPath": null,
       "isJsonSchema": true,
       "metadata": {
        "createTempViewForImplicitDf": true,
        "dataframeName": "_sqldf",
        "executionCount": 24
       },
       "overflow": false,
       "plotOptions": {
        "customPlotOptions": {},
        "displayType": "table",
        "pivotAggregation": null,
        "pivotColumns": null,
        "xColumns": null,
        "yColumns": null
       },
       "removedWidgets": [],
       "schema": [
        {
         "metadata": "{}",
         "name": "month",
         "type": "\"integer\""
        },
        {
         "metadata": "{}",
         "name": "num_leads",
         "type": "\"long\""
        },
        {
         "metadata": "{}",
         "name": "num_opportunities",
         "type": "\"long\""
        }
       ],
       "type": "table"
      }
     },
     "output_type": "display_data"
    }
   ],
   "source": [
    "%sql \n",
    "select date_part('month', lead_creation_date) as month, count(distinct lead_id) as num_leads\n",
    "      ,count(distinct case when is_opportunity_created = 1 then lead_id else null end) as num_opportunities from leads\n",
    "group by date_part('month', lead_creation_date)\n",
    "order by date_part('month', lead_creation_date)"
   ]
  },
  {
   "cell_type": "code",
   "execution_count": 0,
   "metadata": {
    "application/vnd.databricks.v1+cell": {
     "cellMetadata": {
      "byteLimit": 2048000,
      "implicitDf": true,
      "rowLimit": 10000
     },
     "inputWidgets": {},
     "nuid": "240511f7-227b-4a44-8c5d-59cf9956fec8",
     "showTitle": false,
     "tableResultSettingsMap": {},
     "title": ""
    }
   },
   "outputs": [
    {
     "output_type": "display_data",
     "data": {
      "text/html": [
       "<style scoped>\n",
       "  .table-result-container {\n",
       "    max-height: 300px;\n",
       "    overflow: auto;\n",
       "  }\n",
       "  table, th, td {\n",
       "    border: 1px solid black;\n",
       "    border-collapse: collapse;\n",
       "  }\n",
       "  th, td {\n",
       "    padding: 5px;\n",
       "  }\n",
       "  th {\n",
       "    text-align: left;\n",
       "  }\n",
       "</style><div class='table-result-container'><table class='table-result'><thead style='background-color: white'><tr><th>month</th><th>L2O</th></tr></thead><tbody><tr><td>1</td><td>0.4</td></tr><tr><td>2</td><td>0.47</td></tr><tr><td>3</td><td>0.4</td></tr><tr><td>4</td><td>0.3</td></tr><tr><td>5</td><td>0.5</td></tr><tr><td>6</td><td>0.45</td></tr><tr><td>7</td><td>0.44</td></tr><tr><td>8</td><td>0.25</td></tr><tr><td>9</td><td>0.4</td></tr><tr><td>10</td><td>0.4</td></tr><tr><td>11</td><td>0.33</td></tr><tr><td>12</td><td>0.4</td></tr></tbody></table></div>"
      ]
     },
     "metadata": {
      "application/vnd.databricks.v1+output": {
       "addedWidgets": {},
       "aggData": [],
       "aggError": "",
       "aggOverflow": false,
       "aggSchema": [],
       "aggSeriesLimitReached": false,
       "aggType": "",
       "arguments": {},
       "columnCustomDisplayInfos": {},
       "data": [
        [
         1,
         0.4
        ],
        [
         2,
         0.47
        ],
        [
         3,
         0.4
        ],
        [
         4,
         0.3
        ],
        [
         5,
         0.5
        ],
        [
         6,
         0.45
        ],
        [
         7,
         0.44
        ],
        [
         8,
         0.25
        ],
        [
         9,
         0.4
        ],
        [
         10,
         0.4
        ],
        [
         11,
         0.33
        ],
        [
         12,
         0.4
        ]
       ],
       "datasetInfos": [],
       "dbfsResultPath": null,
       "isJsonSchema": true,
       "metadata": {
        "createTempViewForImplicitDf": true,
        "dataframeName": "_sqldf",
        "executionCount": 29
       },
       "overflow": false,
       "plotOptions": {
        "customPlotOptions": {},
        "displayType": "table",
        "pivotAggregation": null,
        "pivotColumns": null,
        "xColumns": null,
        "yColumns": null
       },
       "removedWidgets": [],
       "schema": [
        {
         "metadata": "{}",
         "name": "month",
         "type": "\"integer\""
        },
        {
         "metadata": "{}",
         "name": "L2O",
         "type": "\"double\""
        }
       ],
       "type": "table"
      }
     },
     "output_type": "display_data"
    }
   ],
   "source": [
    "%sql \n",
    "with CTE as (\n",
    "\n",
    "select date_part('month', lead_creation_date) as month, count(distinct lead_id) as num_leads\n",
    "      ,count(distinct case when is_opportunity_created = 1 then lead_id else null end) as num_opportunities from leads\n",
    "group by date_part('month', lead_creation_date)\n",
    "order by date_part('month', lead_creation_date)\n",
    "\n",
    ")\n",
    "select month, round(num_opportunities/num_leads,2) as L2O \n",
    "from CTE"
   ]
  },
  {
   "cell_type": "markdown",
   "metadata": {
    "application/vnd.databricks.v1+cell": {
     "cellMetadata": {},
     "inputWidgets": {},
     "nuid": "af01165d-4662-4fa5-8417-509d4bbb33fe",
     "showTitle": false,
     "tableResultSettingsMap": {},
     "title": ""
    }
   },
   "source": [
    "***\n",
    "## 2. Opportunity-to-Win Conversion Rate (Win Rate)\n",
    "\n",
    "Measures the percentage of closed opportunities that result in a new customer (a \"win\").\n",
    "\n",
    "| Detail | Description |\n",
    "| :--- | :--- |\n",
    "| **Why it Matters** | Core indicator of **sales team effectiveness** and market competitiveness (product/pricing). |\n",
    "| **Formula** | $$\\frac{\\text{COUNT(Won Deals)}}{\\text{COUNT(Total Closed Opportunities)}}$$ |\n",
    "| **Required Data Fields** | `opportunity_id`, `deal_status` (must include 'Won' and 'Lost'), `closed_date` |\n",
    "\n"
   ]
  },
  {
   "cell_type": "code",
   "execution_count": 0,
   "metadata": {
    "application/vnd.databricks.v1+cell": {
     "cellMetadata": {
      "byteLimit": 2048000,
      "implicitDf": true,
      "rowLimit": 10000
     },
     "inputWidgets": {},
     "nuid": "19fa4632-08d4-4abc-ac65-4336dea9eb2b",
     "showTitle": false,
     "tableResultSettingsMap": {},
     "title": ""
    }
   },
   "outputs": [
    {
     "output_type": "display_data",
     "data": {
      "text/html": [
       "<style scoped>\n",
       "  .table-result-container {\n",
       "    max-height: 300px;\n",
       "    overflow: auto;\n",
       "  }\n",
       "  table, th, td {\n",
       "    border: 1px solid black;\n",
       "    border-collapse: collapse;\n",
       "  }\n",
       "  th, td {\n",
       "    padding: 5px;\n",
       "  }\n",
       "  th {\n",
       "    text-align: left;\n",
       "  }\n",
       "</style><div class='table-result-container'><table class='table-result'><thead style='background-color: white'><tr></tr></thead><tbody></tbody></table></div>"
      ]
     },
     "metadata": {
      "application/vnd.databricks.v1+output": {
       "addedWidgets": {},
       "aggData": [],
       "aggError": "",
       "aggOverflow": false,
       "aggSchema": [],
       "aggSeriesLimitReached": false,
       "aggType": "",
       "arguments": {},
       "columnCustomDisplayInfos": {},
       "data": [],
       "datasetInfos": [],
       "dbfsResultPath": null,
       "isJsonSchema": true,
       "metadata": {
        "dataframeName": null
       },
       "overflow": false,
       "plotOptions": {
        "customPlotOptions": {},
        "displayType": "table",
        "pivotAggregation": null,
        "pivotColumns": null,
        "xColumns": null,
        "yColumns": null
       },
       "removedWidgets": [],
       "schema": [],
       "type": "table"
      }
     },
     "output_type": "display_data"
    }
   ],
   "source": [
    "%sql\n",
    "CREATE OR REPLACE TEMPORARY VIEW opportunity \n",
    "USING CSV\n",
    "OPTIONS (\n",
    "  path \"file:/Workspace/Users/olesia.tankersley@thermofisher.com/Go-To-Market-Analytics/opportunity_funnel_data.csv\",\n",
    "  header \"true\",\n",
    "  inferSchema \"true\" );"
   ]
  },
  {
   "cell_type": "code",
   "execution_count": 0,
   "metadata": {
    "application/vnd.databricks.v1+cell": {
     "cellMetadata": {
      "byteLimit": 2048000,
      "implicitDf": true,
      "rowLimit": 10000
     },
     "inputWidgets": {},
     "nuid": "3031c838-259a-4a99-bd75-565eeb121dde",
     "showTitle": false,
     "tableResultSettingsMap": {},
     "title": ""
    }
   },
   "outputs": [
    {
     "output_type": "display_data",
     "data": {
      "text/html": [
       "<style scoped>\n",
       "  .table-result-container {\n",
       "    max-height: 300px;\n",
       "    overflow: auto;\n",
       "  }\n",
       "  table, th, td {\n",
       "    border: 1px solid black;\n",
       "    border-collapse: collapse;\n",
       "  }\n",
       "  th, td {\n",
       "    padding: 5px;\n",
       "  }\n",
       "  th {\n",
       "    text-align: left;\n",
       "  }\n",
       "</style><div class='table-result-container'><table class='table-result'><thead style='background-color: white'><tr><th>opportunity_id</th><th>opportunity_creation_date</th><th>deal_value</th><th>closed_date</th><th>deal_status</th></tr></thead><tbody><tr><td>OPP-202501-01</td><td>2025-01-01</td><td>15000</td><td>2025-01-15</td><td>Won</td></tr><tr><td>OPP-202501-02</td><td>2025-01-02</td><td>25000</td><td>2025-01-20</td><td>Lost</td></tr><tr><td>OPP-202501-03</td><td>2025-01-03</td><td>30000</td><td>2025-01-25</td><td>Won</td></tr><tr><td>OPP-202501-04</td><td>2025-01-05</td><td>12000</td><td>2025-01-18</td><td>Lost</td></tr><tr><td>OPP-202501-05</td><td>2025-01-07</td><td>40000</td><td>2025-02-01</td><td>Won</td></tr></tbody></table></div>"
      ]
     },
     "metadata": {
      "application/vnd.databricks.v1+output": {
       "addedWidgets": {},
       "aggData": [],
       "aggError": "",
       "aggOverflow": false,
       "aggSchema": [],
       "aggSeriesLimitReached": false,
       "aggType": "",
       "arguments": {},
       "columnCustomDisplayInfos": {},
       "data": [
        [
         "OPP-202501-01",
         "2025-01-01",
         15000,
         "2025-01-15",
         "Won"
        ],
        [
         "OPP-202501-02",
         "2025-01-02",
         25000,
         "2025-01-20",
         "Lost"
        ],
        [
         "OPP-202501-03",
         "2025-01-03",
         30000,
         "2025-01-25",
         "Won"
        ],
        [
         "OPP-202501-04",
         "2025-01-05",
         12000,
         "2025-01-18",
         "Lost"
        ],
        [
         "OPP-202501-05",
         "2025-01-07",
         40000,
         "2025-02-01",
         "Won"
        ]
       ],
       "datasetInfos": [],
       "dbfsResultPath": null,
       "isJsonSchema": true,
       "metadata": {
        "createTempViewForImplicitDf": true,
        "dataframeName": "_sqldf",
        "executionCount": 30
       },
       "overflow": false,
       "plotOptions": {
        "customPlotOptions": {},
        "displayType": "table",
        "pivotAggregation": null,
        "pivotColumns": null,
        "xColumns": null,
        "yColumns": null
       },
       "removedWidgets": [],
       "schema": [
        {
         "metadata": "{}",
         "name": "opportunity_id",
         "type": "\"string\""
        },
        {
         "metadata": "{\"__detected_date_formats\":\"M/d/yyyy\"}",
         "name": "opportunity_creation_date",
         "type": "\"date\""
        },
        {
         "metadata": "{}",
         "name": "deal_value",
         "type": "\"integer\""
        },
        {
         "metadata": "{\"__detected_date_formats\":\"M/d/yyyy\"}",
         "name": "closed_date",
         "type": "\"date\""
        },
        {
         "metadata": "{}",
         "name": "deal_status",
         "type": "\"string\""
        }
       ],
       "type": "table"
      }
     },
     "output_type": "display_data"
    }
   ],
   "source": [
    "%sql\n",
    "SELECT * FROM opportunity LIMIT 5"
   ]
  },
  {
   "cell_type": "code",
   "execution_count": 0,
   "metadata": {
    "application/vnd.databricks.v1+cell": {
     "cellMetadata": {
      "byteLimit": 2048000,
      "implicitDf": true,
      "rowLimit": 10000
     },
     "inputWidgets": {},
     "nuid": "361d51c3-79ee-4d53-9d9c-17cd0bbfb533",
     "showTitle": false,
     "tableResultSettingsMap": {},
     "title": ""
    }
   },
   "outputs": [
    {
     "output_type": "display_data",
     "data": {
      "text/html": [
       "<style scoped>\n",
       "  .table-result-container {\n",
       "    max-height: 300px;\n",
       "    overflow: auto;\n",
       "  }\n",
       "  table, th, td {\n",
       "    border: 1px solid black;\n",
       "    border-collapse: collapse;\n",
       "  }\n",
       "  th, td {\n",
       "    padding: 5px;\n",
       "  }\n",
       "  th {\n",
       "    text-align: left;\n",
       "  }\n",
       "</style><div class='table-result-container'><table class='table-result'><thead style='background-color: white'><tr><th>month</th><th>num_opportunities</th><th>num_wins</th></tr></thead><tbody><tr><td>1</td><td>20</td><td>8</td></tr><tr><td>2</td><td>20</td><td>6</td></tr><tr><td>3</td><td>18</td><td>7</td></tr><tr><td>4</td><td>21</td><td>6</td></tr><tr><td>5</td><td>21</td><td>8</td></tr><tr><td>6</td><td>15</td><td>5</td></tr><tr><td>7</td><td>19</td><td>6</td></tr><tr><td>8</td><td>26</td><td>9</td></tr><tr><td>9</td><td>17</td><td>7</td></tr><tr><td>10</td><td>23</td><td>6</td></tr><tr><td>11</td><td>18</td><td>6</td></tr><tr><td>12</td><td>22</td><td>9</td></tr></tbody></table></div>"
      ]
     },
     "metadata": {
      "application/vnd.databricks.v1+output": {
       "addedWidgets": {},
       "aggData": [],
       "aggError": "",
       "aggOverflow": false,
       "aggSchema": [],
       "aggSeriesLimitReached": false,
       "aggType": "",
       "arguments": {},
       "columnCustomDisplayInfos": {},
       "data": [
        [
         1,
         20,
         8
        ],
        [
         2,
         20,
         6
        ],
        [
         3,
         18,
         7
        ],
        [
         4,
         21,
         6
        ],
        [
         5,
         21,
         8
        ],
        [
         6,
         15,
         5
        ],
        [
         7,
         19,
         6
        ],
        [
         8,
         26,
         9
        ],
        [
         9,
         17,
         7
        ],
        [
         10,
         23,
         6
        ],
        [
         11,
         18,
         6
        ],
        [
         12,
         22,
         9
        ]
       ],
       "datasetInfos": [],
       "dbfsResultPath": null,
       "isJsonSchema": true,
       "metadata": {
        "createTempViewForImplicitDf": true,
        "dataframeName": "_sqldf",
        "executionCount": 32
       },
       "overflow": false,
       "plotOptions": {
        "customPlotOptions": {},
        "displayType": "table",
        "pivotAggregation": null,
        "pivotColumns": null,
        "xColumns": null,
        "yColumns": null
       },
       "removedWidgets": [],
       "schema": [
        {
         "metadata": "{}",
         "name": "month",
         "type": "\"integer\""
        },
        {
         "metadata": "{}",
         "name": "num_opportunities",
         "type": "\"long\""
        },
        {
         "metadata": "{}",
         "name": "num_wins",
         "type": "\"long\""
        }
       ],
       "type": "table"
      }
     },
     "output_type": "display_data"
    }
   ],
   "source": [
    "%sql\n",
    "select date_part('month', opportunity_creation_date) as month\n",
    ",count(distinct opportunity_id)                      as num_opportunities\n",
    ",count(distinct case when deal_status = 'Won' then opportunity_id else null end) as num_wins \n",
    "from opportunity\n",
    "group by date_part('month', opportunity_creation_date)\n",
    "order by date_part('month', opportunity_creation_date)"
   ]
  },
  {
   "cell_type": "code",
   "execution_count": 0,
   "metadata": {
    "application/vnd.databricks.v1+cell": {
     "cellMetadata": {
      "byteLimit": 2048000,
      "implicitDf": true,
      "rowLimit": 10000
     },
     "inputWidgets": {},
     "nuid": "a8912a95-1f84-4ac9-b3a3-6d3fc583e438",
     "showTitle": false,
     "tableResultSettingsMap": {},
     "title": ""
    }
   },
   "outputs": [
    {
     "output_type": "display_data",
     "data": {
      "text/html": [
       "<style scoped>\n",
       "  .table-result-container {\n",
       "    max-height: 300px;\n",
       "    overflow: auto;\n",
       "  }\n",
       "  table, th, td {\n",
       "    border: 1px solid black;\n",
       "    border-collapse: collapse;\n",
       "  }\n",
       "  th, td {\n",
       "    padding: 5px;\n",
       "  }\n",
       "  th {\n",
       "    text-align: left;\n",
       "  }\n",
       "</style><div class='table-result-container'><table class='table-result'><thead style='background-color: white'><tr><th>month</th><th>O2W</th></tr></thead><tbody><tr><td>1</td><td>0.4</td></tr><tr><td>2</td><td>0.3</td></tr><tr><td>3</td><td>0.39</td></tr><tr><td>4</td><td>0.29</td></tr><tr><td>5</td><td>0.38</td></tr><tr><td>6</td><td>0.33</td></tr><tr><td>7</td><td>0.32</td></tr><tr><td>8</td><td>0.35</td></tr><tr><td>9</td><td>0.41</td></tr><tr><td>10</td><td>0.26</td></tr><tr><td>11</td><td>0.33</td></tr><tr><td>12</td><td>0.41</td></tr></tbody></table></div>"
      ]
     },
     "metadata": {
      "application/vnd.databricks.v1+output": {
       "addedWidgets": {},
       "aggData": [],
       "aggError": "",
       "aggOverflow": false,
       "aggSchema": [],
       "aggSeriesLimitReached": false,
       "aggType": "",
       "arguments": {},
       "columnCustomDisplayInfos": {},
       "data": [
        [
         1,
         0.4
        ],
        [
         2,
         0.3
        ],
        [
         3,
         0.39
        ],
        [
         4,
         0.29
        ],
        [
         5,
         0.38
        ],
        [
         6,
         0.33
        ],
        [
         7,
         0.32
        ],
        [
         8,
         0.35
        ],
        [
         9,
         0.41
        ],
        [
         10,
         0.26
        ],
        [
         11,
         0.33
        ],
        [
         12,
         0.41
        ]
       ],
       "datasetInfos": [],
       "dbfsResultPath": null,
       "isJsonSchema": true,
       "metadata": {
        "createTempViewForImplicitDf": true,
        "dataframeName": "_sqldf",
        "executionCount": 33
       },
       "overflow": false,
       "plotOptions": {
        "customPlotOptions": {},
        "displayType": "table",
        "pivotAggregation": null,
        "pivotColumns": null,
        "xColumns": null,
        "yColumns": null
       },
       "removedWidgets": [],
       "schema": [
        {
         "metadata": "{}",
         "name": "month",
         "type": "\"integer\""
        },
        {
         "metadata": "{}",
         "name": "O2W",
         "type": "\"double\""
        }
       ],
       "type": "table"
      }
     },
     "output_type": "display_data"
    }
   ],
   "source": [
    "%sql\n",
    "with CTE as (\n",
    "  \n",
    "  select date_part('month', opportunity_creation_date) as month\n",
    "  ,count(distinct opportunity_id)                      as num_opportunities\n",
    "  ,count(distinct case when deal_status = 'Won' then opportunity_id else null end) as num_wins \n",
    "  from opportunity\n",
    "  group by date_part('month', opportunity_creation_date)\n",
    "  order by date_part('month', opportunity_creation_date)\n",
    "\n",
    ")\n",
    "\n",
    "select month, round(num_wins/num_opportunities, 2) as O2W\n",
    "from CTE"
   ]
  },
  {
   "cell_type": "markdown",
   "metadata": {
    "application/vnd.databricks.v1+cell": {
     "cellMetadata": {},
     "inputWidgets": {},
     "nuid": "ed1b924e-7804-46f8-a4d0-08b7dd4f0f11",
     "showTitle": false,
     "tableResultSettingsMap": {},
     "title": ""
    }
   },
   "source": [
    "***\n",
    "## 3. Sales Cycle Length (Time to Close)\n",
    "\n",
    "Measures the average duration (in days) from the opportunity creation to its closure.\n",
    "\n",
    "| Detail | Description |\n",
    "| :--- | :--- |\n",
    "| **Why it Matters** | Shorter cycles improve forecasting accuracy and **cash flow**. Informs sales process optimization. |\n",
    "| **Formula** | $$\\text{AVG}(\\text{Closed Date} - \\text{Opportunity Creation Date})$$ |\n",
    "| **Required Data Fields** | `opportunity_id`, `opportunity_creation_date`, `closed_date`, `deal_status` (Filter for closed deals only) |\n"
   ]
  },
  {
   "cell_type": "code",
   "execution_count": 0,
   "metadata": {
    "application/vnd.databricks.v1+cell": {
     "cellMetadata": {
      "byteLimit": 2048000,
      "implicitDf": true,
      "rowLimit": 10000
     },
     "inputWidgets": {},
     "nuid": "cacd2864-4813-4d5b-85db-18b2671c612a",
     "showTitle": false,
     "tableResultSettingsMap": {
      "0": {
       "dataGridStateBlob": "{\"version\":1,\"tableState\":{\"columnPinning\":{\"left\":[\"#row_number#\"],\"right\":[]},\"columnSizing\":{},\"columnVisibility\":{}},\"settings\":{\"columns\":{}},\"syncTimestamp\":1760287246690}",
       "filterBlob": null,
       "queryPlanFiltersBlob": null,
       "tableResultIndex": 0
      }
     },
     "title": ""
    }
   },
   "outputs": [
    {
     "output_type": "display_data",
     "data": {
      "text/html": [
       "<style scoped>\n",
       "  .table-result-container {\n",
       "    max-height: 300px;\n",
       "    overflow: auto;\n",
       "  }\n",
       "  table, th, td {\n",
       "    border: 1px solid black;\n",
       "    border-collapse: collapse;\n",
       "  }\n",
       "  th, td {\n",
       "    padding: 5px;\n",
       "  }\n",
       "  th {\n",
       "    text-align: left;\n",
       "  }\n",
       "</style><div class='table-result-container'><table class='table-result'><thead style='background-color: white'><tr><th>opportunity_id</th><th>opportunity_creation_date</th><th>deal_value</th><th>closed_date</th><th>deal_status</th></tr></thead><tbody><tr><td>OPP-202501-01</td><td>2025-01-01</td><td>15000</td><td>2025-01-15</td><td>Won</td></tr><tr><td>OPP-202501-02</td><td>2025-01-02</td><td>25000</td><td>2025-01-20</td><td>Lost</td></tr><tr><td>OPP-202501-03</td><td>2025-01-03</td><td>30000</td><td>2025-01-25</td><td>Won</td></tr><tr><td>OPP-202501-04</td><td>2025-01-05</td><td>12000</td><td>2025-01-18</td><td>Lost</td></tr><tr><td>OPP-202501-05</td><td>2025-01-07</td><td>40000</td><td>2025-02-01</td><td>Won</td></tr></tbody></table></div>"
      ]
     },
     "metadata": {
      "application/vnd.databricks.v1+output": {
       "addedWidgets": {},
       "aggData": [],
       "aggError": "",
       "aggOverflow": false,
       "aggSchema": [],
       "aggSeriesLimitReached": false,
       "aggType": "",
       "arguments": {},
       "columnCustomDisplayInfos": {},
       "data": [
        [
         "OPP-202501-01",
         "2025-01-01",
         15000,
         "2025-01-15",
         "Won"
        ],
        [
         "OPP-202501-02",
         "2025-01-02",
         25000,
         "2025-01-20",
         "Lost"
        ],
        [
         "OPP-202501-03",
         "2025-01-03",
         30000,
         "2025-01-25",
         "Won"
        ],
        [
         "OPP-202501-04",
         "2025-01-05",
         12000,
         "2025-01-18",
         "Lost"
        ],
        [
         "OPP-202501-05",
         "2025-01-07",
         40000,
         "2025-02-01",
         "Won"
        ]
       ],
       "datasetInfos": [],
       "dbfsResultPath": null,
       "isJsonSchema": true,
       "metadata": {
        "createTempViewForImplicitDf": true,
        "dataframeName": "_sqldf",
        "executionCount": 38
       },
       "overflow": false,
       "plotOptions": {
        "customPlotOptions": {},
        "displayType": "table",
        "pivotAggregation": null,
        "pivotColumns": null,
        "xColumns": null,
        "yColumns": null
       },
       "removedWidgets": [],
       "schema": [
        {
         "metadata": "{}",
         "name": "opportunity_id",
         "type": "\"string\""
        },
        {
         "metadata": "{\"__detected_date_formats\":\"M/d/yyyy\"}",
         "name": "opportunity_creation_date",
         "type": "\"date\""
        },
        {
         "metadata": "{}",
         "name": "deal_value",
         "type": "\"integer\""
        },
        {
         "metadata": "{\"__detected_date_formats\":\"M/d/yyyy\"}",
         "name": "closed_date",
         "type": "\"date\""
        },
        {
         "metadata": "{}",
         "name": "deal_status",
         "type": "\"string\""
        }
       ],
       "type": "table"
      }
     },
     "output_type": "display_data"
    }
   ],
   "source": [
    "%sql\n",
    "SELECT * FROM opportunity LIMIT 5"
   ]
  },
  {
   "cell_type": "code",
   "execution_count": 0,
   "metadata": {
    "application/vnd.databricks.v1+cell": {
     "cellMetadata": {
      "byteLimit": 2048000,
      "implicitDf": true,
      "rowLimit": 10000
     },
     "inputWidgets": {},
     "nuid": "67de6bfb-12cf-4144-82d5-4afaf7ad5972",
     "showTitle": false,
     "tableResultSettingsMap": {},
     "title": ""
    }
   },
   "outputs": [
    {
     "output_type": "display_data",
     "data": {
      "text/html": [
       "<style scoped>\n",
       "  .table-result-container {\n",
       "    max-height: 300px;\n",
       "    overflow: auto;\n",
       "  }\n",
       "  table, th, td {\n",
       "    border: 1px solid black;\n",
       "    border-collapse: collapse;\n",
       "  }\n",
       "  th, td {\n",
       "    padding: 5px;\n",
       "  }\n",
       "  th {\n",
       "    text-align: left;\n",
       "  }\n",
       "</style><div class='table-result-container'><table class='table-result'><thead style='background-color: white'><tr><th>month</th><th>num_days</th></tr></thead><tbody><tr><td>1</td><td>26.0</td></tr><tr><td>2</td><td>30.0</td></tr><tr><td>3</td><td>30.0</td></tr><tr><td>4</td><td>31.0</td></tr><tr><td>5</td><td>38.0</td></tr><tr><td>6</td><td>29.0</td></tr><tr><td>7</td><td>31.0</td></tr><tr><td>8</td><td>48.0</td></tr><tr><td>9</td><td>33.0</td></tr><tr><td>10</td><td>41.0</td></tr><tr><td>11</td><td>33.0</td></tr><tr><td>12</td><td>46.0</td></tr></tbody></table></div>"
      ]
     },
     "metadata": {
      "application/vnd.databricks.v1+output": {
       "addedWidgets": {},
       "aggData": [],
       "aggError": "",
       "aggOverflow": false,
       "aggSchema": [],
       "aggSeriesLimitReached": false,
       "aggType": "",
       "arguments": {},
       "columnCustomDisplayInfos": {},
       "data": [
        [
         1,
         26.0
        ],
        [
         2,
         30.0
        ],
        [
         3,
         30.0
        ],
        [
         4,
         31.0
        ],
        [
         5,
         38.0
        ],
        [
         6,
         29.0
        ],
        [
         7,
         31.0
        ],
        [
         8,
         48.0
        ],
        [
         9,
         33.0
        ],
        [
         10,
         41.0
        ],
        [
         11,
         33.0
        ],
        [
         12,
         46.0
        ]
       ],
       "datasetInfos": [],
       "dbfsResultPath": null,
       "isJsonSchema": true,
       "metadata": {
        "createTempViewForImplicitDf": true,
        "dataframeName": "_sqldf",
        "executionCount": 39
       },
       "overflow": false,
       "plotOptions": {
        "customPlotOptions": {},
        "displayType": "table",
        "pivotAggregation": null,
        "pivotColumns": null,
        "xColumns": null,
        "yColumns": null
       },
       "removedWidgets": [],
       "schema": [
        {
         "metadata": "{}",
         "name": "month",
         "type": "\"integer\""
        },
        {
         "metadata": "{}",
         "name": "num_days",
         "type": "\"double\""
        }
       ],
       "type": "table"
      }
     },
     "output_type": "display_data"
    }
   ],
   "source": [
    "%sql\n",
    "select date_part('month', opportunity_creation_date) as month \n",
    ",round(avg(date_diff(closed_date,opportunity_creation_date)),0) as num_days\n",
    "from opportunity\n",
    "group by date_part('month', opportunity_creation_date)\n",
    "order by date_part('month', opportunity_creation_date)"
   ]
  },
  {
   "cell_type": "code",
   "execution_count": 0,
   "metadata": {
    "application/vnd.databricks.v1+cell": {
     "cellMetadata": {
      "byteLimit": 2048000,
      "implicitDf": true,
      "rowLimit": 10000
     },
     "inputWidgets": {},
     "nuid": "b640929b-202b-450b-bf36-0deb508b2394",
     "showTitle": false,
     "tableResultSettingsMap": {},
     "title": ""
    }
   },
   "outputs": [
    {
     "output_type": "display_data",
     "data": {
      "text/html": [
       "<style scoped>\n",
       "  .table-result-container {\n",
       "    max-height: 300px;\n",
       "    overflow: auto;\n",
       "  }\n",
       "  table, th, td {\n",
       "    border: 1px solid black;\n",
       "    border-collapse: collapse;\n",
       "  }\n",
       "  th, td {\n",
       "    padding: 5px;\n",
       "  }\n",
       "  th {\n",
       "    text-align: left;\n",
       "  }\n",
       "</style><div class='table-result-container'><table class='table-result'><thead style='background-color: white'><tr><th>month</th><th>num_days</th></tr></thead><tbody><tr><td>1</td><td>26.0</td></tr><tr><td>2</td><td>30.0</td></tr><tr><td>3</td><td>31.0</td></tr><tr><td>4</td><td>33.0</td></tr><tr><td>5</td><td>35.0</td></tr><tr><td>6</td><td>30.0</td></tr><tr><td>7</td><td>34.0</td></tr><tr><td>8</td><td>42.0</td></tr><tr><td>9</td><td>30.0</td></tr><tr><td>10</td><td>39.0</td></tr><tr><td>11</td><td>29.0</td></tr><tr><td>12</td><td>43.0</td></tr></tbody></table></div>"
      ]
     },
     "metadata": {
      "application/vnd.databricks.v1+output": {
       "addedWidgets": {},
       "aggData": [],
       "aggError": "",
       "aggOverflow": false,
       "aggSchema": [],
       "aggSeriesLimitReached": false,
       "aggType": "",
       "arguments": {},
       "columnCustomDisplayInfos": {},
       "data": [
        [
         1,
         26.0
        ],
        [
         2,
         30.0
        ],
        [
         3,
         31.0
        ],
        [
         4,
         33.0
        ],
        [
         5,
         35.0
        ],
        [
         6,
         30.0
        ],
        [
         7,
         34.0
        ],
        [
         8,
         42.0
        ],
        [
         9,
         30.0
        ],
        [
         10,
         39.0
        ],
        [
         11,
         29.0
        ],
        [
         12,
         43.0
        ]
       ],
       "datasetInfos": [],
       "dbfsResultPath": null,
       "isJsonSchema": true,
       "metadata": {
        "createTempViewForImplicitDf": true,
        "dataframeName": "_sqldf",
        "executionCount": 40
       },
       "overflow": false,
       "plotOptions": {
        "customPlotOptions": {},
        "displayType": "table",
        "pivotAggregation": null,
        "pivotColumns": null,
        "xColumns": null,
        "yColumns": null
       },
       "removedWidgets": [],
       "schema": [
        {
         "metadata": "{}",
         "name": "month",
         "type": "\"integer\""
        },
        {
         "metadata": "{}",
         "name": "num_days",
         "type": "\"double\""
        }
       ],
       "type": "table"
      }
     },
     "output_type": "display_data"
    }
   ],
   "source": [
    "%sql\n",
    "select date_part('month', opportunity_creation_date) as month \n",
    ",round(avg(date_diff(closed_date,opportunity_creation_date)),0) as num_days\n",
    "from opportunity\n",
    "where deal_status = 'Won'\n",
    "group by date_part('month', opportunity_creation_date)\n",
    "order by date_part('month', opportunity_creation_date)"
   ]
  },
  {
   "cell_type": "markdown",
   "metadata": {
    "application/vnd.databricks.v1+cell": {
     "cellMetadata": {},
     "inputWidgets": {},
     "nuid": "9d4829e0-5045-4434-96ca-e5ee33688d0b",
     "showTitle": false,
     "tableResultSettingsMap": {},
     "title": ""
    }
   },
   "source": [
    "***\n",
    "## 4. Average Deal Size (Average ACV)\n",
    "\n",
    "The average Annual Contract Value (ACV) of all closed-won deals within a period.\n",
    "\n",
    "| Detail | Description |\n",
    "| :--- | :--- |\n",
    "| **Why it Matters** | A primary **pricing analytic**. Tracks shifts in customer segmentation and success of pricing tiers/upsells. |\n",
    "| **Formula** | $$\\frac{\\text{SUM(Deal Value of Won Deals)}}{\\text{COUNT(Won Deals)}}$$ |\n",
    "| **Required Data Fields** | `opportunity_id`, `deal_value` (or `acv`), `deal_status` (Must be 'Won'), `closed_date` |"
   ]
  },
  {
   "cell_type": "code",
   "execution_count": 0,
   "metadata": {
    "application/vnd.databricks.v1+cell": {
     "cellMetadata": {
      "byteLimit": 2048000,
      "implicitDf": true,
      "rowLimit": 10000
     },
     "inputWidgets": {},
     "nuid": "b01cf295-4773-4364-8569-dea7c312935c",
     "showTitle": false,
     "tableResultSettingsMap": {},
     "title": ""
    }
   },
   "outputs": [
    {
     "output_type": "display_data",
     "data": {
      "text/html": [
       "<style scoped>\n",
       "  .table-result-container {\n",
       "    max-height: 300px;\n",
       "    overflow: auto;\n",
       "  }\n",
       "  table, th, td {\n",
       "    border: 1px solid black;\n",
       "    border-collapse: collapse;\n",
       "  }\n",
       "  th, td {\n",
       "    padding: 5px;\n",
       "  }\n",
       "  th {\n",
       "    text-align: left;\n",
       "  }\n",
       "</style><div class='table-result-container'><table class='table-result'><thead style='background-color: white'><tr><th>opportunity_id</th><th>opportunity_creation_date</th><th>deal_value</th><th>closed_date</th><th>deal_status</th></tr></thead><tbody><tr><td>OPP-202501-01</td><td>2025-01-01</td><td>15000</td><td>2025-01-15</td><td>Won</td></tr><tr><td>OPP-202501-02</td><td>2025-01-02</td><td>25000</td><td>2025-01-20</td><td>Lost</td></tr><tr><td>OPP-202501-03</td><td>2025-01-03</td><td>30000</td><td>2025-01-25</td><td>Won</td></tr><tr><td>OPP-202501-04</td><td>2025-01-05</td><td>12000</td><td>2025-01-18</td><td>Lost</td></tr><tr><td>OPP-202501-05</td><td>2025-01-07</td><td>40000</td><td>2025-02-01</td><td>Won</td></tr></tbody></table></div>"
      ]
     },
     "metadata": {
      "application/vnd.databricks.v1+output": {
       "addedWidgets": {},
       "aggData": [],
       "aggError": "",
       "aggOverflow": false,
       "aggSchema": [],
       "aggSeriesLimitReached": false,
       "aggType": "",
       "arguments": {},
       "columnCustomDisplayInfos": {},
       "data": [
        [
         "OPP-202501-01",
         "2025-01-01",
         15000,
         "2025-01-15",
         "Won"
        ],
        [
         "OPP-202501-02",
         "2025-01-02",
         25000,
         "2025-01-20",
         "Lost"
        ],
        [
         "OPP-202501-03",
         "2025-01-03",
         30000,
         "2025-01-25",
         "Won"
        ],
        [
         "OPP-202501-04",
         "2025-01-05",
         12000,
         "2025-01-18",
         "Lost"
        ],
        [
         "OPP-202501-05",
         "2025-01-07",
         40000,
         "2025-02-01",
         "Won"
        ]
       ],
       "datasetInfos": [],
       "dbfsResultPath": null,
       "isJsonSchema": true,
       "metadata": {
        "createTempViewForImplicitDf": true,
        "dataframeName": "_sqldf",
        "executionCount": 41
       },
       "overflow": false,
       "plotOptions": {
        "customPlotOptions": {},
        "displayType": "table",
        "pivotAggregation": null,
        "pivotColumns": null,
        "xColumns": null,
        "yColumns": null
       },
       "removedWidgets": [],
       "schema": [
        {
         "metadata": "{}",
         "name": "opportunity_id",
         "type": "\"string\""
        },
        {
         "metadata": "{\"__detected_date_formats\":\"M/d/yyyy\"}",
         "name": "opportunity_creation_date",
         "type": "\"date\""
        },
        {
         "metadata": "{}",
         "name": "deal_value",
         "type": "\"integer\""
        },
        {
         "metadata": "{\"__detected_date_formats\":\"M/d/yyyy\"}",
         "name": "closed_date",
         "type": "\"date\""
        },
        {
         "metadata": "{}",
         "name": "deal_status",
         "type": "\"string\""
        }
       ],
       "type": "table"
      }
     },
     "output_type": "display_data"
    }
   ],
   "source": [
    "%sql\n",
    "SELECT * FROM opportunity LIMIT 5"
   ]
  },
  {
   "cell_type": "code",
   "execution_count": 0,
   "metadata": {
    "application/vnd.databricks.v1+cell": {
     "cellMetadata": {
      "byteLimit": 2048000,
      "implicitDf": true,
      "rowLimit": 10000
     },
     "inputWidgets": {},
     "nuid": "3f7941e8-af70-445a-aba7-87553f17fe6c",
     "showTitle": false,
     "tableResultSettingsMap": {},
     "title": ""
    }
   },
   "outputs": [
    {
     "output_type": "display_data",
     "data": {
      "text/html": [
       "<style scoped>\n",
       "  .table-result-container {\n",
       "    max-height: 300px;\n",
       "    overflow: auto;\n",
       "  }\n",
       "  table, th, td {\n",
       "    border: 1px solid black;\n",
       "    border-collapse: collapse;\n",
       "  }\n",
       "  th, td {\n",
       "    padding: 5px;\n",
       "  }\n",
       "  th {\n",
       "    text-align: left;\n",
       "  }\n",
       "</style><div class='table-result-container'><table class='table-result'><thead style='background-color: white'><tr><th>month</th><th>avg_won_deal_value</th></tr></thead><tbody><tr><td>1</td><td>26750.0</td></tr><tr><td>2</td><td>24333.0</td></tr><tr><td>3</td><td>25429.0</td></tr><tr><td>4</td><td>25333.0</td></tr><tr><td>5</td><td>26625.0</td></tr><tr><td>6</td><td>27200.0</td></tr><tr><td>7</td><td>19833.0</td></tr><tr><td>8</td><td>26444.0</td></tr><tr><td>9</td><td>27000.0</td></tr><tr><td>10</td><td>25333.0</td></tr><tr><td>11</td><td>21333.0</td></tr><tr><td>12</td><td>24556.0</td></tr></tbody></table></div>"
      ]
     },
     "metadata": {
      "application/vnd.databricks.v1+output": {
       "addedWidgets": {},
       "aggData": [],
       "aggError": "",
       "aggOverflow": false,
       "aggSchema": [],
       "aggSeriesLimitReached": false,
       "aggType": "",
       "arguments": {},
       "columnCustomDisplayInfos": {},
       "data": [
        [
         1,
         26750.0
        ],
        [
         2,
         24333.0
        ],
        [
         3,
         25429.0
        ],
        [
         4,
         25333.0
        ],
        [
         5,
         26625.0
        ],
        [
         6,
         27200.0
        ],
        [
         7,
         19833.0
        ],
        [
         8,
         26444.0
        ],
        [
         9,
         27000.0
        ],
        [
         10,
         25333.0
        ],
        [
         11,
         21333.0
        ],
        [
         12,
         24556.0
        ]
       ],
       "datasetInfos": [],
       "dbfsResultPath": null,
       "isJsonSchema": true,
       "metadata": {
        "createTempViewForImplicitDf": true,
        "dataframeName": "_sqldf",
        "executionCount": 51
       },
       "overflow": false,
       "plotOptions": {
        "customPlotOptions": {},
        "displayType": "table",
        "pivotAggregation": null,
        "pivotColumns": null,
        "xColumns": null,
        "yColumns": null
       },
       "removedWidgets": [],
       "schema": [
        {
         "metadata": "{}",
         "name": "month",
         "type": "\"integer\""
        },
        {
         "metadata": "{}",
         "name": "avg_won_deal_value",
         "type": "\"double\""
        }
       ],
       "type": "table"
      }
     },
     "output_type": "display_data"
    }
   ],
   "source": [
    "%sql\n",
    "select date_part('month', opportunity_creation_date) as month\n",
    ",round(avg(deal_value),0) as avg_won_deal_value\n",
    "from opportunity\n",
    "where deal_status = 'Won'\n",
    "group by date_part('month', opportunity_creation_date)\n",
    "order by date_part('month', opportunity_creation_date)"
   ]
  },
  {
   "cell_type": "code",
   "execution_count": 0,
   "metadata": {
    "application/vnd.databricks.v1+cell": {
     "cellMetadata": {
      "byteLimit": 2048000,
      "implicitDf": true,
      "rowLimit": 10000
     },
     "inputWidgets": {},
     "nuid": "234bb118-8469-4f2a-9fc3-e03d00182cf1",
     "showTitle": false,
     "tableResultSettingsMap": {},
     "title": ""
    }
   },
   "outputs": [
    {
     "output_type": "display_data",
     "data": {
      "text/html": [
       "<style scoped>\n",
       "  .table-result-container {\n",
       "    max-height: 300px;\n",
       "    overflow: auto;\n",
       "  }\n",
       "  table, th, td {\n",
       "    border: 1px solid black;\n",
       "    border-collapse: collapse;\n",
       "  }\n",
       "  th, td {\n",
       "    padding: 5px;\n",
       "  }\n",
       "  th {\n",
       "    text-align: left;\n",
       "  }\n",
       "</style><div class='table-result-container'><table class='table-result'><thead style='background-color: white'><tr><th>month</th><th>avg_won_deal_value</th></tr></thead><tbody><tr><td>1</td><td>26750</td></tr><tr><td>2</td><td>24333</td></tr><tr><td>3</td><td>25429</td></tr><tr><td>4</td><td>25333</td></tr><tr><td>5</td><td>26625</td></tr><tr><td>6</td><td>27200</td></tr><tr><td>7</td><td>19833</td></tr><tr><td>8</td><td>26444</td></tr><tr><td>9</td><td>27000</td></tr><tr><td>10</td><td>25333</td></tr><tr><td>11</td><td>21333</td></tr><tr><td>12</td><td>24556</td></tr></tbody></table></div>"
      ]
     },
     "metadata": {
      "application/vnd.databricks.v1+output": {
       "addedWidgets": {},
       "aggData": [],
       "aggError": "",
       "aggOverflow": false,
       "aggSchema": [],
       "aggSeriesLimitReached": false,
       "aggType": "",
       "arguments": {},
       "columnCustomDisplayInfos": {},
       "data": [
        [
         1,
         "26750"
        ],
        [
         2,
         "24333"
        ],
        [
         3,
         "25429"
        ],
        [
         4,
         "25333"
        ],
        [
         5,
         "26625"
        ],
        [
         6,
         "27200"
        ],
        [
         7,
         "19833"
        ],
        [
         8,
         "26444"
        ],
        [
         9,
         "27000"
        ],
        [
         10,
         "25333"
        ],
        [
         11,
         "21333"
        ],
        [
         12,
         "24556"
        ]
       ],
       "datasetInfos": [],
       "dbfsResultPath": null,
       "isJsonSchema": true,
       "metadata": {
        "createTempViewForImplicitDf": true,
        "dataframeName": "_sqldf",
        "executionCount": 49
       },
       "overflow": false,
       "plotOptions": {
        "customPlotOptions": {},
        "displayType": "table",
        "pivotAggregation": null,
        "pivotColumns": null,
        "xColumns": null,
        "yColumns": null
       },
       "removedWidgets": [],
       "schema": [
        {
         "metadata": "{}",
         "name": "month",
         "type": "\"integer\""
        },
        {
         "metadata": "{}",
         "name": "avg_won_deal_value",
         "type": "\"decimal(22,0)\""
        }
       ],
       "type": "table"
      }
     },
     "output_type": "display_data"
    }
   ],
   "source": [
    "%sql\n",
    "--alternative way to filter out the data\n",
    "select date_part('month', opportunity_creation_date) as month\n",
    ",cast(avg(deal_value) filter (where deal_status = 'Won') as decimal(22,0)) as avg_won_deal_value\n",
    "from opportunity\n",
    "group by date_part('month', opportunity_creation_date)\n",
    "order by date_part('month', opportunity_creation_date)"
   ]
  },
  {
   "cell_type": "markdown",
   "metadata": {
    "application/vnd.databricks.v1+cell": {
     "cellMetadata": {},
     "inputWidgets": {},
     "nuid": "84995757-3adc-4642-b03e-a2da62512b25",
     "showTitle": false,
     "tableResultSettingsMap": {},
     "title": ""
    }
   },
   "source": [
    "***\n",
    "## 5. Pipeline Coverage Ratio\n",
    "\n",
    "Compares the value of the active sales pipeline against the revenue target for a period.\n",
    "\n",
    "| Detail | Description |\n",
    "| :--- | :--- |\n",
    "| **Why it Matters** | A **GTM health metric** that informs resource allocation and risk. A common target is 3x to 4x coverage. |\n",
    "| **Formula** | $$\\frac{\\text{SUM(Value of Active Opportunities)}}{\\text{Sales Revenue Target}}$$ |\n",
    "| **Required Data Fields** | `opportunity_id`, `deal_value` (Forecasted), `stage` (Must exclude 'Closed' stages), **External Data: Revenue Target** |\n",
    "| **SQL Concept** | `SUM(deal_value) FILTER (WHERE stage NOT IN ('Closed Won', 'Closed Lost')) / [Target Variable]` |"
   ]
  },
  {
   "cell_type": "code",
   "execution_count": 0,
   "metadata": {
    "application/vnd.databricks.v1+cell": {
     "cellMetadata": {
      "byteLimit": 2048000,
      "implicitDf": true,
      "rowLimit": 10000
     },
     "inputWidgets": {},
     "nuid": "a845afc6-96b3-45da-8248-2137685f67a3",
     "showTitle": false,
     "tableResultSettingsMap": {},
     "title": ""
    }
   },
   "outputs": [
    {
     "output_type": "display_data",
     "data": {
      "text/html": [
       "<style scoped>\n",
       "  .table-result-container {\n",
       "    max-height: 300px;\n",
       "    overflow: auto;\n",
       "  }\n",
       "  table, th, td {\n",
       "    border: 1px solid black;\n",
       "    border-collapse: collapse;\n",
       "  }\n",
       "  th, td {\n",
       "    padding: 5px;\n",
       "  }\n",
       "  th {\n",
       "    text-align: left;\n",
       "  }\n",
       "</style><div class='table-result-container'><table class='table-result'><thead style='background-color: white'><tr></tr></thead><tbody></tbody></table></div>"
      ]
     },
     "metadata": {
      "application/vnd.databricks.v1+output": {
       "addedWidgets": {},
       "aggData": [],
       "aggError": "",
       "aggOverflow": false,
       "aggSchema": [],
       "aggSeriesLimitReached": false,
       "aggType": "",
       "arguments": {},
       "columnCustomDisplayInfos": {},
       "data": [],
       "datasetInfos": [],
       "dbfsResultPath": null,
       "isJsonSchema": true,
       "metadata": {
        "dataframeName": null
       },
       "overflow": false,
       "plotOptions": {
        "customPlotOptions": {},
        "displayType": "table",
        "pivotAggregation": null,
        "pivotColumns": null,
        "xColumns": null,
        "yColumns": null
       },
       "removedWidgets": [],
       "schema": [],
       "type": "table"
      }
     },
     "output_type": "display_data"
    }
   ],
   "source": [
    "%sql\n",
    "CREATE OR REPLACE TEMPORARY VIEW pipeline \n",
    "USING CSV\n",
    "OPTIONS (\n",
    "  path \"file:/Workspace/Users/olesia.tankersley@thermofisher.com/Go-To-Market-Analytics/active_pipeline_data.csv\",\n",
    "  header \"true\",\n",
    "  inferSchema \"true\" );"
   ]
  },
  {
   "cell_type": "code",
   "execution_count": 0,
   "metadata": {
    "application/vnd.databricks.v1+cell": {
     "cellMetadata": {
      "byteLimit": 2048000,
      "implicitDf": true,
      "rowLimit": 10000
     },
     "inputWidgets": {},
     "nuid": "1395706d-65e5-4298-94d8-595652bd6831",
     "showTitle": false,
     "tableResultSettingsMap": {},
     "title": ""
    }
   },
   "outputs": [
    {
     "output_type": "display_data",
     "data": {
      "text/html": [
       "<style scoped>\n",
       "  .table-result-container {\n",
       "    max-height: 300px;\n",
       "    overflow: auto;\n",
       "  }\n",
       "  table, th, td {\n",
       "    border: 1px solid black;\n",
       "    border-collapse: collapse;\n",
       "  }\n",
       "  th, td {\n",
       "    padding: 5px;\n",
       "  }\n",
       "  th {\n",
       "    text-align: left;\n",
       "  }\n",
       "</style><div class='table-result-container'><table class='table-result'><thead style='background-color: white'><tr><th>opportunity_id</th><th>current_stage</th><th>forecasted_deal_value</th><th>estimated_close_date</th></tr></thead><tbody><tr><td>PIPE-2025-01</td><td>Negotiation</td><td>55000</td><td>2025-10-15</td></tr><tr><td>PIPE-2025-02</td><td>Proposal</td><td>28000</td><td>2025-10-25</td></tr><tr><td>PIPE-2025-03</td><td>Discovery</td><td>17000</td><td>2025-11-01</td></tr><tr><td>PIPE-2025-04</td><td>Negotiation</td><td>48000</td><td>2025-11-10</td></tr><tr><td>PIPE-2025-05</td><td>Discovery</td><td>22000</td><td>2025-11-15</td></tr></tbody></table></div>"
      ]
     },
     "metadata": {
      "application/vnd.databricks.v1+output": {
       "addedWidgets": {},
       "aggData": [],
       "aggError": "",
       "aggOverflow": false,
       "aggSchema": [],
       "aggSeriesLimitReached": false,
       "aggType": "",
       "arguments": {},
       "columnCustomDisplayInfos": {},
       "data": [
        [
         "PIPE-2025-01",
         "Negotiation",
         55000,
         "2025-10-15"
        ],
        [
         "PIPE-2025-02",
         "Proposal",
         28000,
         "2025-10-25"
        ],
        [
         "PIPE-2025-03",
         "Discovery",
         17000,
         "2025-11-01"
        ],
        [
         "PIPE-2025-04",
         "Negotiation",
         48000,
         "2025-11-10"
        ],
        [
         "PIPE-2025-05",
         "Discovery",
         22000,
         "2025-11-15"
        ]
       ],
       "datasetInfos": [],
       "dbfsResultPath": null,
       "isJsonSchema": true,
       "metadata": {
        "createTempViewForImplicitDf": true,
        "dataframeName": "_sqldf",
        "executionCount": 52
       },
       "overflow": false,
       "plotOptions": {
        "customPlotOptions": {},
        "displayType": "table",
        "pivotAggregation": null,
        "pivotColumns": null,
        "xColumns": null,
        "yColumns": null
       },
       "removedWidgets": [],
       "schema": [
        {
         "metadata": "{}",
         "name": "opportunity_id",
         "type": "\"string\""
        },
        {
         "metadata": "{}",
         "name": "current_stage",
         "type": "\"string\""
        },
        {
         "metadata": "{}",
         "name": "forecasted_deal_value",
         "type": "\"integer\""
        },
        {
         "metadata": "{\"__detected_date_formats\":\"M/d/yyyy\"}",
         "name": "estimated_close_date",
         "type": "\"date\""
        }
       ],
       "type": "table"
      }
     },
     "output_type": "display_data"
    }
   ],
   "source": [
    "%sql\n",
    "SELECT * FROM pipeline LIMIT 5"
   ]
  },
  {
   "cell_type": "code",
   "execution_count": 0,
   "metadata": {
    "application/vnd.databricks.v1+cell": {
     "cellMetadata": {
      "byteLimit": 2048000,
      "implicitDf": true,
      "rowLimit": 10000
     },
     "inputWidgets": {},
     "nuid": "e158b9d7-e63b-47b4-b360-dbfd93bcc9e4",
     "showTitle": false,
     "tableResultSettingsMap": {},
     "title": ""
    }
   },
   "outputs": [
    {
     "output_type": "display_data",
     "data": {
      "text/html": [
       "<style scoped>\n",
       "  .table-result-container {\n",
       "    max-height: 300px;\n",
       "    overflow: auto;\n",
       "  }\n",
       "  table, th, td {\n",
       "    border: 1px solid black;\n",
       "    border-collapse: collapse;\n",
       "  }\n",
       "  th, td {\n",
       "    padding: 5px;\n",
       "  }\n",
       "  th {\n",
       "    text-align: left;\n",
       "  }\n",
       "</style><div class='table-result-container'><table class='table-result'><thead style='background-color: white'><tr><th>year</th><th>month</th><th>pipeline_value</th></tr></thead><tbody><tr><td>2025</td><td>10</td><td>83000</td></tr><tr><td>2025</td><td>11</td><td>252000</td></tr><tr><td>2025</td><td>12</td><td>424000</td></tr><tr><td>2026</td><td>1</td><td>556000</td></tr><tr><td>2026</td><td>2</td><td>545000</td></tr><tr><td>2026</td><td>3</td><td>756000</td></tr><tr><td>2026</td><td>4</td><td>464000</td></tr><tr><td>2026</td><td>5</td><td>798000</td></tr><tr><td>2026</td><td>6</td><td>632000</td></tr><tr><td>2026</td><td>7</td><td>430000</td></tr><tr><td>2026</td><td>8</td><td>673000</td></tr><tr><td>2026</td><td>9</td><td>751000</td></tr><tr><td>2026</td><td>10</td><td>431000</td></tr><tr><td>2026</td><td>11</td><td>624000</td></tr><tr><td>2026</td><td>12</td><td>597000</td></tr></tbody></table></div>"
      ]
     },
     "metadata": {
      "application/vnd.databricks.v1+output": {
       "addedWidgets": {},
       "aggData": [],
       "aggError": "",
       "aggOverflow": false,
       "aggSchema": [],
       "aggSeriesLimitReached": false,
       "aggType": "",
       "arguments": {},
       "columnCustomDisplayInfos": {},
       "data": [
        [
         2025,
         10,
         83000
        ],
        [
         2025,
         11,
         252000
        ],
        [
         2025,
         12,
         424000
        ],
        [
         2026,
         1,
         556000
        ],
        [
         2026,
         2,
         545000
        ],
        [
         2026,
         3,
         756000
        ],
        [
         2026,
         4,
         464000
        ],
        [
         2026,
         5,
         798000
        ],
        [
         2026,
         6,
         632000
        ],
        [
         2026,
         7,
         430000
        ],
        [
         2026,
         8,
         673000
        ],
        [
         2026,
         9,
         751000
        ],
        [
         2026,
         10,
         431000
        ],
        [
         2026,
         11,
         624000
        ],
        [
         2026,
         12,
         597000
        ]
       ],
       "datasetInfos": [],
       "dbfsResultPath": null,
       "isJsonSchema": true,
       "metadata": {
        "createTempViewForImplicitDf": true,
        "dataframeName": "_sqldf",
        "executionCount": 61
       },
       "overflow": false,
       "plotOptions": {
        "customPlotOptions": {},
        "displayType": "table",
        "pivotAggregation": null,
        "pivotColumns": null,
        "xColumns": null,
        "yColumns": null
       },
       "removedWidgets": [],
       "schema": [
        {
         "metadata": "{}",
         "name": "year",
         "type": "\"integer\""
        },
        {
         "metadata": "{}",
         "name": "month",
         "type": "\"integer\""
        },
        {
         "metadata": "{}",
         "name": "pipeline_value",
         "type": "\"long\""
        }
       ],
       "type": "table"
      }
     },
     "output_type": "display_data"
    }
   ],
   "source": [
    "%sql\n",
    "select date_part('year', estimated_close_date) as year, date_part('month', estimated_close_date) as month,\n",
    "round(sum(forecasted_deal_value),0) as pipeline_value\n",
    "from pipeline\n",
    "group by date_part('year', estimated_close_date), date_part('month', estimated_close_date)\n",
    "order by date_part('year', estimated_close_date), date_part('month', estimated_close_date)"
   ]
  },
  {
   "cell_type": "code",
   "execution_count": 0,
   "metadata": {
    "application/vnd.databricks.v1+cell": {
     "cellMetadata": {
      "byteLimit": 2048000,
      "implicitDf": true,
      "rowLimit": 10000
     },
     "inputWidgets": {},
     "nuid": "30fbd081-14d5-47a0-9673-cec41dc8a9d5",
     "showTitle": false,
     "tableResultSettingsMap": {},
     "title": ""
    }
   },
   "outputs": [
    {
     "output_type": "display_data",
     "data": {
      "text/html": [
       "<style scoped>\n",
       "  .table-result-container {\n",
       "    max-height: 300px;\n",
       "    overflow: auto;\n",
       "  }\n",
       "  table, th, td {\n",
       "    border: 1px solid black;\n",
       "    border-collapse: collapse;\n",
       "  }\n",
       "  th, td {\n",
       "    padding: 5px;\n",
       "  }\n",
       "  th {\n",
       "    text-align: left;\n",
       "  }\n",
       "</style><div class='table-result-container'><table class='table-result'><thead style='background-color: white'><tr><th>year</th><th>month</th><th>coverage_ratio</th></tr></thead><tbody><tr><td>2025</td><td>10</td><td>0.21</td></tr><tr><td>2025</td><td>11</td><td>0.63</td></tr><tr><td>2025</td><td>12</td><td>1.06</td></tr><tr><td>2026</td><td>1</td><td>1.39</td></tr><tr><td>2026</td><td>2</td><td>1.36</td></tr><tr><td>2026</td><td>3</td><td>1.89</td></tr><tr><td>2026</td><td>4</td><td>1.16</td></tr><tr><td>2026</td><td>5</td><td>2.0</td></tr><tr><td>2026</td><td>6</td><td>1.58</td></tr><tr><td>2026</td><td>7</td><td>1.08</td></tr><tr><td>2026</td><td>8</td><td>1.68</td></tr><tr><td>2026</td><td>9</td><td>1.88</td></tr><tr><td>2026</td><td>10</td><td>1.08</td></tr><tr><td>2026</td><td>11</td><td>1.56</td></tr><tr><td>2026</td><td>12</td><td>1.49</td></tr></tbody></table></div>"
      ]
     },
     "metadata": {
      "application/vnd.databricks.v1+output": {
       "addedWidgets": {},
       "aggData": [],
       "aggError": "",
       "aggOverflow": false,
       "aggSchema": [],
       "aggSeriesLimitReached": false,
       "aggType": "",
       "arguments": {},
       "columnCustomDisplayInfos": {},
       "data": [
        [
         2025,
         10,
         0.21
        ],
        [
         2025,
         11,
         0.63
        ],
        [
         2025,
         12,
         1.06
        ],
        [
         2026,
         1,
         1.39
        ],
        [
         2026,
         2,
         1.36
        ],
        [
         2026,
         3,
         1.89
        ],
        [
         2026,
         4,
         1.16
        ],
        [
         2026,
         5,
         2.0
        ],
        [
         2026,
         6,
         1.58
        ],
        [
         2026,
         7,
         1.08
        ],
        [
         2026,
         8,
         1.68
        ],
        [
         2026,
         9,
         1.88
        ],
        [
         2026,
         10,
         1.08
        ],
        [
         2026,
         11,
         1.56
        ],
        [
         2026,
         12,
         1.49
        ]
       ],
       "datasetInfos": [],
       "dbfsResultPath": null,
       "isJsonSchema": true,
       "metadata": {
        "createTempViewForImplicitDf": true,
        "dataframeName": "_sqldf",
        "executionCount": 60
       },
       "overflow": false,
       "plotOptions": {
        "customPlotOptions": {},
        "displayType": "table",
        "pivotAggregation": null,
        "pivotColumns": null,
        "xColumns": null,
        "yColumns": null
       },
       "removedWidgets": [],
       "schema": [
        {
         "metadata": "{}",
         "name": "year",
         "type": "\"integer\""
        },
        {
         "metadata": "{}",
         "name": "month",
         "type": "\"integer\""
        },
        {
         "metadata": "{}",
         "name": "coverage_ratio",
         "type": "\"double\""
        }
       ],
       "type": "table"
      }
     },
     "output_type": "display_data"
    }
   ],
   "source": [
    "%sql\n",
    "with CTE as (SELECT 400000 as target)\n",
    "select date_part('year', estimated_close_date) as year, date_part('month', estimated_close_date) as month,\n",
    "round(sum(forecasted_deal_value)/avg(target),2) as coverage_ratio\n",
    "from pipeline\n",
    "cross join CTE\n",
    "where pipeline.current_stage not like 'Closed'\n",
    "group by date_part('year', estimated_close_date), date_part('month', estimated_close_date)\n",
    "order by date_part('year', estimated_close_date), date_part('month', estimated_close_date)"
   ]
  },
  {
   "cell_type": "markdown",
   "metadata": {
    "application/vnd.databricks.v1+cell": {
     "cellMetadata": {},
     "inputWidgets": {},
     "nuid": "c1229ec1-954b-4d81-a4d1-1b9b5b4168a7",
     "showTitle": false,
     "tableResultSettingsMap": {},
     "title": ""
    }
   },
   "source": []
  }
 ],
 "metadata": {
  "application/vnd.databricks.v1+notebook": {
   "computePreferences": null,
   "dashboards": [],
   "environmentMetadata": {
    "base_environment": "",
    "environment_version": "4"
   },
   "inputWidgetPreferences": null,
   "language": "python",
   "notebookMetadata": {
    "mostRecentlyExecutedCommandWithImplicitDF": {
     "commandId": 8249529801783204,
     "dataframes": [
      "_sqldf"
     ]
    },
    "pythonIndentUnit": 2
   },
   "notebookName": "GTM_withSQL",
   "widgets": {}
  },
  "language_info": {
   "name": "python"
  }
 },
 "nbformat": 4,
 "nbformat_minor": 0
}